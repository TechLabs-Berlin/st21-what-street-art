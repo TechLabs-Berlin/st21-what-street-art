{
 "cells": [
  {
   "cell_type": "code",
   "execution_count": 14,
   "metadata": {},
   "outputs": [],
   "source": [
    "import pandas as pd\n",
    "import numpy as np\n",
    "import random"
   ]
  },
  {
   "cell_type": "code",
   "execution_count": 15,
   "metadata": {
    "scrolled": true
   },
   "outputs": [],
   "source": [
    "# Columns in csv user file\n",
    "columns = ['id', 'first_name', 'last_name', 'email', 'age', 'gender', 'country', 'liked', 'saved']\n",
    "df = pd.DataFrame(columns=columns)"
   ]
  },
  {
   "cell_type": "code",
   "execution_count": 16,
   "metadata": {},
   "outputs": [],
   "source": [
    "# Three lists of frequent first names divided by \"typically\" male, female and a mixed list of male/female names for a non-binary name list.\n",
    "# List of frequent last names.\n",
    "# List of gender categories.\n",
    "first_names_m = ['Aaran', 'Aaren', 'Aarez', 'Aarman', 'Aaron', 'Aaron-James', 'Aarron', 'Aaryan', 'Aaryn', 'Aayan', 'Aazaan', 'Abaan', 'Abbas', 'Abdallah', 'Abdalroof', 'Abdihakim', 'Abdirahman', 'Abdisalam', 'Abdul', 'Abdul-Aziz', 'Abdulbasir', 'Abdulkadir', 'Abdulkarem', 'Abdulkhader', 'Abdullah', 'Abdul-Majeed', 'Abdulmalik', 'Abdul-Rehman', 'Abdur', 'Abdurraheem', 'Abdur-Rahman', 'Abdur-Rehmaan', 'Abel', 'Abhinav', 'Abhisumant', 'Abid', 'Abir', 'Abraham', 'Abu', 'Abubakar', 'Ace', 'Adain', 'Adam', 'Adam-James', 'Addison', 'Addisson', 'Adegbola', 'Adegbolahan', 'Aden', 'Adenn', 'Adie', 'Adil', 'Aditya', 'Adnan', 'Adrian', 'Adrien', 'Aedan', 'Aedin', 'Aedyn', 'Aeron', 'Afonso', 'Ahmad', 'Ahmed', 'Ahmed-Aziz', 'Ahoua', 'Ahtasham', 'Aiadan', 'Aidan', 'Aiden', 'Aiden-Jack', 'Aiden-Vee', 'Aidian', 'Aidy', 'Ailin', 'Aiman', 'Ainsley', 'Ainslie', 'Airen', 'Airidas', 'Airlie', 'AJ', 'Ajay', 'A-Jay', 'Ajayraj', 'Akan', 'Akram', 'Al', 'Ala', 'Alan', 'Alanas', 'Alasdair', 'Alastair', 'Alber', 'Albert', 'Albie', 'Aldred', 'Alec', 'Aled', 'Aleem', 'Aleksandar', 'Aleksander', 'Aleksandr', 'Aleksandrs', 'Alekzander', 'Alessandro', 'Alessio', 'Alex', 'Alexander', 'Alexei', 'Alexx', 'Alexzander', 'Alf', 'Alfee', 'Alfie', 'Alfred', 'Alfy', 'Alhaji', 'Al-Hassan', 'Ali', 'Aliekber', 'Alieu', 'Alihaider', 'Alisdair', 'Alishan', 'Alistair', 'Alistar', 'Alister', 'Aliyaan', 'Allan', 'Allan-Laiton', 'Allen', 'Allesandro', 'Allister', 'Ally', 'Alphonse', 'Altyiab', 'Alum', 'Alvern', 'Alvin', 'Alyas', 'Amaan', 'Aman', 'Amani', 'Ambanimoh', 'Ameer', 'Amgad', 'Ami', 'Amin', 'Amir', 'Ammaar', 'Ammar', 'Ammer', 'Amolpreet', 'Amos', 'Amrinder', 'Amrit', 'Amro', 'Anay', 'Andrea', 'Andreas', 'Andrei', 'Andrejs', 'Andrew', 'Andy', 'Anees', 'Anesu', 'Angel', 'Angelo', 'Angus', 'Anir', 'Anis', 'Anish', 'Anmolpreet', 'Annan', 'Anndra', 'Anselm', 'Anthony', 'Anthony-John', 'Antoine', 'Anton', 'Antoni', 'Antonio', 'Antony', 'Antonyo', 'Anubhav', 'Aodhan', 'Aon', 'Aonghus', 'Apisai', 'Arafat', 'Aran', 'Arandeep', 'Arann', 'Aray', 'Arayan', 'Archibald', 'Archie', 'Arda', 'Ardal', 'Ardeshir', 'Areeb', 'Areez', 'Aref', 'Arfin', 'Argyle', 'Argyll', 'Ari', 'Aria', 'Arian', 'Arihant', 'Aristomenis', 'Aristotelis', 'Arjuna', 'Arlo', 'Armaan', 'Arman', 'Armen', 'Arnab', 'Arnav', 'Arnold', 'Aron', 'Aronas', 'Arran', 'Arrham', 'Arron', 'Arryn', 'Arsalan', 'Artem', 'Arthur', 'Artur', 'Arturo', 'Arun', 'Arunas', 'Arved', 'Arya', 'Aryan', 'Aryankhan', 'Aryian', 'Aryn', 'Asa', 'Asfhan', 'Ash', 'Ashlee-jay', 'Ashley', 'Ashton', 'Ashton-Lloyd', 'Ashtyn', 'Ashwin', 'Asif', 'Asim', 'Aslam', 'Asrar', 'Ata', 'Atal', 'Atapattu', 'Ateeq', 'Athol', 'Athon', 'Athos-Carlos', 'Atli', 'Atom', 'Attila', 'Aulay', 'Aun', 'Austen', 'Austin', 'Avani', 'Averon', 'Avi', 'Avinash', 'Avraham', 'Awais', 'Awwal', 'Axel', 'Ayaan', 'Ayan', 'Aydan', 'Ayden', 'Aydin', 'Aydon', 'Ayman', 'Ayomide', 'Ayren', 'Ayrton', 'Aytug', 'Ayub', 'Ayyub', 'Azaan', 'Azedine', 'Azeem', 'Azim', 'Aziz', 'Azlan', 'Azzam', 'Azzedine', 'Babatunmise', 'Babur', 'Bader', 'Badr', 'Badsha', 'Bailee', 'Bailey', 'Bailie', 'Bailley', 'Baillie', 'Baley', 'Balian', 'Banan', 'Barath', 'Barkley', 'Barney', 'Baron', 'Barrie', 'Barry', 'Bartlomiej', 'Bartosz', 'Basher', 'Basile', 'Baxter', 'Baye', 'Bayley', 'Beau', 'Beinn', 'Bekim', 'Believe', 'Ben', 'Bendeguz', 'Benedict', 'Benjamin', 'Benjamyn', 'Benji', 'Benn', 'Bennett', 'Benny', 'Benoit', 'Bentley', 'Berkay', 'Bernard', 'Bertie', 'Bevin', 'Bezalel', 'Bhaaldeen', 'Bharath', 'Bilal', 'Bill', 'Billy', 'Binod', 'Bjorn', 'Blaike', 'Blaine', 'Blair', 'Blaire', 'Blake', 'Blazej', 'Blazey', 'Blessing', 'Blue', 'Blyth', 'Bo', 'Boab', 'Bob', 'Bobby', 'Bobby-Lee', 'Bodhan', 'Boedyn', 'Bogdan', 'Bohbi', 'Bony', 'Bowen', 'Bowie', 'Boyd', 'Bracken', 'Brad', 'Bradan', 'Braden', 'Bradley', 'Bradlie', 'Bradly', 'Brady', 'Bradyn', 'Braeden', 'Braiden', 'Brajan', 'Brandan', 'Branden', 'Brandon', 'Brandonlee', 'Brandon-Lee', 'Brandyn', 'Brannan', 'Brayden', 'Braydon', 'Braydyn', 'Breandan', 'Brehme', 'Brendan', 'Brendon', 'Brendyn', 'Breogan', 'Bret', 'Brett', 'Briaddon', 'Brian', 'Brodi', 'Brodie', 'Brody', 'Brogan', 'Broghan', 'Brooke', 'Brooklin', 'Brooklyn', 'Bruce', 'Bruin', 'Bruno', 'Brunon', 'Bryan', 'Bryce', 'Bryden', 'Brydon', 'Brydon-Craig', 'Bryn', 'Brynmor', 'Bryson', 'Buddy', 'Bully', 'Burak', 'Burhan', 'Butali', 'Butchi', 'Byron', 'Cabhan', 'Cadan', 'Cade', 'Caden', 'Cadon', 'Cadyn', 'Caedan', 'Caedyn', 'Cael', 'Caelan', 'Caelen', 'Caethan', 'Cahl', 'Cahlum', 'Cai', 'Caidan', 'Caiden', 'Caiden-Paul', 'Caidyn', 'Caie', 'Cailaen', 'Cailean', 'Caileb-John', 'Cailin', 'Cain', 'Caine', 'Cairn', 'Cal', 'Calan', 'Calder', 'Cale', 'Calean', 'Caleb', 'Calen', 'Caley', 'Calib', 'Calin', 'Callahan', 'Callan', 'Callan-Adam', 'Calley', 'Callie', 'Callin', 'Callum', 'Callun', 'Callyn', 'Calum', 'Calum-James', 'Calvin', 'Cambell', 'Camerin', 'Cameron', 'Campbel', 'Campbell', 'Camron', 'Caolain', 'Caolan', 'Carl', 'Carlo', 'Carlos', 'Carrich', 'Carrick', 'Carson', 'Carter', 'Carwyn', 'Casey', 'Casper', 'Cassy', 'Cathal', 'Cator', 'Cavan', 'Cayden', 'Cayden-Robert', 'Cayden-Tiamo', 'Ceejay', 'Ceilan', 'Ceiran', 'Ceirin', 'Ceiron', 'Cejay', 'Celik', 'Cephas', 'Cesar', 'Cesare', 'Chad', 'Chaitanya', 'Chang-Ha', 'Charles', 'Charley', 'Charlie', 'Charly', 'Chase', 'Che', 'Chester', 'Chevy', 'Chi', 'Chibudom', 'Chidera', 'Chimsom', 'Chin', 'Chintu', 'Chiqal', 'Chiron', 'Chris', 'Chris-Daniel', 'Chrismedi', 'Christian', 'Christie', 'Christoph', 'Christopher', 'Christopher-Lee', 'Christy', 'Chu', 'Chukwuemeka', 'Cian', 'Ciann', 'Ciar', 'Ciaran', 'Ciarian', 'Cieran', 'Cillian', 'Cillin', 'Cinar', 'CJ', 'C-Jay', 'Clark', 'Clarke', 'Clayton', 'Clement', 'Clifford', 'Clyde', 'Cobain', 'Coban', 'Coben', 'Cobi', 'Cobie', 'Coby', 'Codey', 'Codi', 'Codie', 'Cody', 'Cody-Lee', 'Coel', 'Cohan', 'Cohen', 'Colby', 'Cole', 'Colin', 'Coll', 'Colm', 'Colt', 'Colton', 'Colum', 'Colvin', 'Comghan', 'Conal', 'Conall', 'Conan', 'Conar', 'Conghaile', 'Conlan', 'Conley', 'Conli', 'Conlin', 'Conlly', 'Conlon', 'Conlyn', 'Connal', 'Connall', 'Connan', 'Connar', 'Connel', 'Connell', 'Conner', 'Connolly', 'Connor', 'Connor-David', 'Conor', 'Conrad', 'Cooper', 'Copeland', 'Coray', 'Corben', 'Corbin', 'Corey', 'Corey-James', 'Corey-Jay', 'Cori', 'Corie', 'Corin', 'Cormac', 'Cormack', 'Cormak', 'Corran', 'Corrie', 'Cory', 'Cosmo', 'Coupar', 'Craig', 'Craig-James', 'Crawford', 'Creag', 'Crispin', 'Cristian', 'Crombie', 'Cruiz', 'Cruz', 'Cuillin', 'Cullen', 'Cullin', 'Curtis', 'Cyrus', 'Daanyaal', 'Daegan', 'Daegyu', 'Dafydd', 'Dagon', 'Dailey', 'Daimhin', 'Daithi', 'Dakota', 'Daksh', 'Dale', 'Dalong', 'Dalton', 'Damian', 'Damien', 'Damon', 'Dan', 'Danar', 'Dane', 'Danial', 'Daniel', 'Daniele', 'Daniel-James', 'Daniels', 'Daniil', 'Danish', 'Daniyal', 'Danniel', 'Danny', 'Dante', 'Danyal', 'Danyil', 'Danys', 'Daood', 'Dara', 'Darach', 'Daragh', 'Darcy', 'Dareh', 'Daren', 'Darien', 'Darius', 'Darl', 'Darn', 'Darrach', 'Darragh', 'Darrel', 'Darrell', 'Darren', 'Darrie', 'Darrius', 'Darroch', 'Darryl', 'Darryn', 'Darwyn', 'Daryl', 'Daryn', 'Daud', 'Daumantas', 'Davi', 'David', 'David-Jay', 'David-Lee', 'Davie', 'Davis', 'Davy', 'Dawid', 'Dawson', 'Dawud', 'Dayem', 'Daymian', 'Deacon', 'Deagan', 'Dean', 'Deano', 'Decklan', 'Declain', 'Declan', 'Declyan', 'Declyn', 'Dedeniseoluwa', 'Deecan', 'Deegan', 'Deelan', 'Deklain-Jaimes', 'Del', 'Demetrius', 'Denis', 'Deniss', 'Dennan', 'Dennin', 'Dennis', 'Denny', 'Dennys', 'Denon', 'Denton', 'Denver', 'Denzel', 'Deon', 'Derek', 'Derick', 'Derin', 'Dermot', 'Derren', 'Derrie', 'Derrin', 'Derron', 'Derry', 'Derryn', 'Deryn', 'Deshawn', 'Desmond', 'Dev', 'Devan', 'Devin', 'Devlin', 'Devlyn', 'Devon', 'Devrin', 'Devyn', 'Dex', 'Dexter', 'Dhani', 'Dharam', 'Dhavid', 'Dhyia', 'Diarmaid', 'Diarmid', 'Diarmuid', 'Didier', 'Diego', 'Diesel', 'Diesil', 'Digby', 'Dilan', 'Dilano', 'Dillan', 'Dillon', 'Dilraj', 'Dimitri', 'Dinaras', 'Dion', 'Dissanayake', 'Dmitri', 'Doire', 'Dolan', 'Domanic', 'Domenico', 'Domhnall', 'Dominic', 'Dominick', 'Dominik', 'Donald', 'Donnacha', 'Donnie', 'Dorian', 'Dougal', 'Douglas', 'Dougray', 'Drakeo', 'Dre', 'Dregan', 'Drew', 'Dugald', 'Duncan', 'Duriel', 'Dustin', 'Dylan', 'Dylan-Jack', 'Dylan-James', 'Dylan-John', 'Dylan-Patrick', 'Dylin', 'Dyllan', 'Dyllan-James', 'Dyllon', 'Eadie', 'Eagann', 'Eamon', 'Eamonn', 'Eason', 'Eassan', 'Easton', 'Ebow', 'Ed', 'Eddie', 'Eden', 'Ediomi', 'Edison', 'Eduardo', 'Eduards', 'Edward', 'Edwin', 'Edwyn', 'Eesa', 'Efan', 'Efe', 'Ege', 'Ehsan', 'Ehsen', 'Eiddon', 'Eidhan', 'Eihli', 'Eimantas', 'Eisa', 'Eli', 'Elias', 'Elijah', 'Eliot', 'Elisau', 'Eljay', 'Eljon', 'Elliot', 'Elliott', 'Ellis', 'Ellisandro', 'Elshan', 'Elvin', 'Elyan', 'Emanuel', 'Emerson', 'Emil', 'Emile', 'Emir', 'Emlyn', 'Emmanuel', 'Emmet', 'Eng', 'Eniola', 'Enis', 'Ennis', 'Enrico', 'Enrique', 'Enzo', 'Eoghain', 'Eoghan', 'Eoin', 'Eonan', 'Erdehan', 'Eren', 'Erencem', 'Eric', 'Ericlee', 'Erik', 'Eriz', 'Ernie-Jacks', 'Eroni', 'Eryk', 'Eshan', 'Essa', 'Esteban', 'Ethan', 'Etienne', 'Etinosa', 'Euan', 'Eugene', 'Evan', 'Evann', 'Ewan', 'Ewen', 'Ewing', 'Exodi', 'Ezekiel', 'Ezra', 'Fabian', 'Fahad', 'Faheem', 'Faisal', 'Faizaan', 'Famara', 'Fares', 'Farhaan', 'Farhan', 'Farren', 'Farzad', 'Fauzaan', 'Favour', 'Fawaz', 'Fawkes', 'Faysal', 'Fearghus', 'Feden', 'Felix', 'Fergal', 'Fergie', 'Fergus', 'Ferre', 'Fezaan', 'Fiachra', 'Fikret', 'Filip', 'Filippo', 'Finan', 'Findlay', 'Findlay-James', 'Findlie', 'Finlay', 'Finley', 'Finn', 'Finnan', 'Finnean', 'Finnen', 'Finnlay', 'Finnley', 'Fintan', 'Fionn', 'Firaaz', 'Fletcher', 'Flint', 'Florin', 'Flyn', 'Flynn', 'Fodeba', 'Folarinwa', 'Forbes', 'Forgan', 'Forrest', 'Fox', 'Francesco', 'Francis', 'Francisco', 'Franciszek', 'Franco', 'Frank', 'Frankie', 'Franklin', 'Franko', 'Fraser', 'Frazer', 'Fred', 'Freddie', 'Frederick', 'Fruin', 'Fyfe', 'Fyn', 'Fynlay', 'Fynn', 'Gabriel', 'Gallagher', 'Gareth', 'Garren', 'Garrett', 'Garry', 'Gary', 'Gavin', 'Gavin-Lee', 'Gene', 'Geoff', 'Geoffrey', 'Geomer', 'Geordan', 'Geordie', 'George']\n",
    "first_names_f = ['Emily', 'Hannah', 'Madison', 'Ashley', 'Sarah', 'Alexis', 'Samantha', 'Jessica', 'Elizabeth', 'Taylor', 'Lauren', 'Alyssa', 'Kayla', 'Abigail', 'Brianna', 'Olivia', 'Emma', 'Megan', 'Grace', 'Victoria', 'Rachel', 'Anna', 'Sydney', 'Destiny', 'Morgan', 'Jennifer', 'Jasmine', 'Haley', 'Julia', 'Kaitlyn', 'Nicole', 'Amanda', 'Katherine', 'Natalie', 'Hailey', 'Alexandra', 'Savannah', 'Chloe', 'Rebecca', 'Stephanie', 'Maria', 'Sophia', 'Mackenzie', 'Allison', 'Isabella', 'Amber', 'Mary', 'Danielle', 'Gabrielle', 'Jordan', 'Brooke', 'Michelle', 'Sierra', 'Katelyn', 'Andrea', 'Madeline', 'Sara', 'Kimberly', 'Courtney', 'Erin', 'Brittany', 'Vanessa', 'Jenna', 'Jacqueline', 'Caroline', 'Faith', 'Makayla', 'Bailey', 'Paige', 'Shelby', 'Melissa', 'Kaylee', 'Christina', 'Trinity', 'Mariah', 'Caitlin', 'Autumn', 'Marissa', 'Breanna', 'Angela', 'Catherine', 'Zoe', 'Briana', 'Jada', 'Laura', 'Claire', 'Alexa', 'Kelsey', 'Kathryn', 'Leslie', 'Alexandria', 'Sabrina', 'Mia', 'Isabel', 'Molly', 'Leah', 'Katie', 'Gabriella', 'Cheyenne', 'Cassandra', 'Tiffany', 'Erica', 'Lindsey', 'Kylie', 'Amy', 'Diana', 'Cassidy', 'Mikayla', 'Ariana', 'Margaret', 'Kelly', 'Miranda', 'Maya', 'Melanie', 'Audrey', 'Jade', 'Gabriela', 'Caitlyn', 'Angel', 'Jillian', 'Alicia', 'Jocelyn', 'Erika', 'Lily', 'Heather', 'Madelyn', 'Adriana', 'Arianna', 'Lillian', 'Kiara', 'Riley', 'Crystal', 'Mckenzie', 'Meghan', 'Skylar', 'Ana', 'Britney', 'Angelica', 'Kennedy', 'Chelsea', 'Daisy', 'Kristen', 'Veronica', 'Isabelle', 'Summer', 'Hope', 'Brittney', 'Lydia', 'Hayley', 'Evelyn', 'Bethany', 'Shannon', 'Michaela', 'Karen', 'Jamie', 'Daniela', 'Angelina', 'Kaitlin', 'Karina', 'Sophie', 'Sofia', 'Diamond', 'Payton', 'Cynthia', 'Alexia', 'Valerie', 'Monica', 'Peyton', 'Carly', 'Bianca', 'Hanna', 'Brenda', 'Rebekah', 'Alejandra', 'Mya', 'Avery', 'Brooklyn', 'Ashlyn', 'Lindsay', 'Ava', 'Desiree', 'Alondra', 'Camryn', 'Ariel', 'Naomi', 'Jordyn', 'Kendra', 'Mckenna', 'Holly', 'Julie', 'Kendall', 'Kara', 'Jasmin', 'Selena', 'Esmeralda', 'Amaya', 'Kylee', 'Maggie', 'Makenzie', 'Claudia', 'Kyra', 'Cameron', 'Karla', 'Kathleen', 'Abby', 'Delaney', 'Amelia', 'Casey', 'Serena', 'Savanna', 'Aaliyah', 'Giselle', 'Mallory', 'April', 'Raven', 'Adrianna', 'Christine', 'Kristina', 'Nina', 'Asia', 'Natalia', 'Valeria', 'Aubrey', 'Lauryn', 'Kate', 'Patricia', 'Jazmin', 'Rachael', 'Katelynn', 'Cierra', 'Alison', 'Macy', 'Nancy', 'Elena', 'Kyla', 'Katrina', 'Jazmine', 'Joanna', 'Tara', 'Gianna', 'Juliana', 'Fatima', 'Allyson', 'Gracie', 'Sadie', 'Guadalupe', 'Genesis', 'Yesenia', 'Julianna', 'Skyler', 'Tatiana', 'Alexus', 'Alana', 'Elise', 'Kirsten', 'Nadia', 'Sandra', 'Dominique', 'Ruby', 'Haylee', 'Jayla', 'Tori', 'Cindy', 'Sidney', 'Ella', 'Tessa', 'Carolina', 'Camille', 'Jaqueline', 'Whitney', 'Carmen', 'Vivian', 'Priscilla', 'Bridget', 'Celeste', 'Kiana', 'Makenna', 'Alissa', 'Madeleine', 'Miriam', 'Natasha', 'Ciara', 'Cecilia', 'Mercedes', 'Kassandra', 'Reagan', 'Aliyah', 'Josephine', 'Charlotte', 'Rylee', 'Shania', 'Kira', 'Meredith', 'Eva', 'Lisa', 'Dakota', 'Hallie', 'Anne', 'Rose', 'Liliana', 'Kristin', 'Deanna', 'Imani', 'Marisa', 'Kailey', 'Annie', 'Nia', 'Carolyn', 'Anastasia', 'Brenna', 'Dana', 'Shayla', 'Ashlee', 'Kassidy', 'Alaina', 'Rosa', 'Wendy', 'Logan', 'Tabitha', 'Paola', 'Callie', 'Addison', 'Lucy', 'Gillian', 'Clarissa', 'Destinee', 'Josie', 'Esther', 'Denise', 'Katlyn', 'Mariana', 'Bryanna', 'Emilee', 'Georgia', 'Deja', 'Kamryn', 'Ashleigh', 'Cristina', 'Baylee', 'Heaven', 'Ruth', 'Raquel', 'Monique', 'Teresa', 'Helen', 'Krystal', 'Tiana', 'Cassie', 'Kayleigh', 'Marina', 'Heidi', 'Ivy', 'Ashton', 'Clara', 'Meagan', 'Gina', 'Linda', 'Gloria', 'Jacquelyn', 'Ellie', 'Jenny', 'Renee', 'Daniella', 'Lizbeth', 'Anahi', 'Virginia', 'Gisselle', 'Kaitlynn', 'Julissa', 'Cheyanne', 'Lacey', 'Haleigh', 'Marie', 'Martha', 'Eleanor', 'Kierra', 'Tiara', 'Talia', 'Eliza', 'Kaylie', 'Mikaela', 'Harley', 'Jaden', 'Hailee', 'Madalyn', 'Kasey', 'Ashlynn', 'Brandi', 'Lesly', 'Elisabeth', 'Allie', 'Viviana', 'Cara', 'Marisol', 'India', 'Tatyana', 'Litzy', 'Melody', 'Jessie', 'Brandy', 'Alisha', 'Hunter', 'Noelle', 'Carla', 'Francesca', 'Tia', 'Layla', 'Krista', 'Zoey', 'Carley', 'Janet', 'Carissa', 'Iris', 'Kaleigh', 'Tyler', 'Susan', 'Tamara', 'Theresa', 'Yasmine', 'Tatum', 'Sharon', 'Alice', 'Yasmin', 'Tamia', 'Abbey', 'Alayna', 'Kali', 'Lilly', 'Bailee', 'Lesley', 'Mckayla', 'Ayanna', 'Serenity', 'Karissa', 'Precious', 'Jane', 'Maddison', 'Jayda', 'Kelsie', 'Lexi', 'Phoebe', 'Halle', 'Kiersten', 'Kiera', 'Tyra', 'Annika', 'Felicity', 'Taryn', 'Kaylin', 'Ellen', 'Kiley', 'Jaclyn', 'Rhiannon', 'Madisyn', 'Colleen', 'Joy', 'Pamela', 'Charity', 'Tania', 'Fiona', 'Alyson', 'Kaila', 'Annabelle', 'Emely', 'Angelique', 'Alina', 'Irene', 'Johanna', 'Regan', 'Janelle', 'Janae', 'Madyson', 'Paris', 'Justine', 'Chelsey', 'Sasha', 'Paulina', 'Mayra', 'Zaria', 'Skye', 'Cora', 'Brisa', 'Emilie', 'Felicia', 'Larissa', 'Macie', 'Tianna', 'Aurora', 'Sage', 'Lucia', 'Alma', 'Chasity', 'Ann', 'Deborah', 'Nichole', 'Jayden', 'Alanna', 'Malia', 'Carlie', 'Angie', 'Nora', 'Kailee', 'Sylvia', 'Carrie', 'Elaina', 'Sonia', 'Genevieve', 'Kenya', 'Piper', 'Marilyn', 'Amari', 'Macey', 'Marlene', 'Barbara', 'Tayler', 'Julianne', 'Brooklynn', 'Lorena', 'Perla', 'Elisa', 'Kaley', 'Leilani', 'Eden', 'Miracle', 'Devin', 'Aileen', 'Chyna', 'Athena', 'Esperanza', 'Regina', 'Adrienne', 'Shyanne', 'Luz', 'Tierra', 'Cristal', 'Clare', 'Eliana', 'Kelli', 'Eve', 'Sydnee', 'Madelynn', 'Breana', 'Melina', 'Arielle', 'Justice', 'Toni', 'Corinne', 'Maia', 'Tess', 'Abbigail', 'Ciera', 'Ebony', 'Maritza', 'Lena', 'Lexie', 'Isis', 'Aimee', 'Leticia', 'Sydni', 'Sarai', 'Halie', 'Alivia', 'Destiney', 'Laurel', 'Edith', 'Carina', 'Fernanda', 'Amya', 'Destini', 'Aspen', 'Nathalie', 'Paula', 'Tanya', 'Frances', 'Tina', 'Christian', 'Elaine', 'Shayna', 'Aniya', 'Mollie', 'Ryan', 'Essence', 'Simone', 'Kyleigh', 'Nikki', 'Anya', 'Reyna', 'Kaylyn', 'Nicolette', 'Savanah', 'Abbie', 'Montana', 'Kailyn', 'Itzel', 'Leila', 'Cayla', 'Stacy', 'Araceli', 'Robin', 'Dulce', 'Candace', 'Noemi', 'Jewel', 'Aleah', 'Ally', 'Mara', 'Nayeli', 'Karlee', 'Keely', 'Alisa', 'Micaela', 'Desirae', 'Leanna', 'Antonia', 'Brynn', 'Jaelyn', 'Judith', 'Raegan', 'Katelin', 'Sienna', 'Celia', 'Yvette', 'Juliet', 'Anika', 'Emilia', 'Calista', 'Carlee', 'Eileen', 'Kianna', 'Thalia', 'Rylie', 'Daphne', 'Kacie', 'Karli', 'Rosemary', 'Ericka', 'Jadyn', 'Lyndsey', 'Micah', 'Hana', 'Haylie', 'Madilyn', 'Laila', 'Blanca', 'Kayley', 'Katarina', 'Kellie', 'Maribel', 'Sandy', 'Joselyn', 'Kaelyn', 'Madisen', 'Carson', 'Kathy', 'Margarita', 'Stella', 'Juliette', 'Devon', 'Camila', 'Bria', 'Donna', 'Helena', 'Lea', 'Jazlyn', 'Jazmyn', 'Skyla', 'Christy', 'Katharine', 'Joyce', 'Karlie', 'Lexus', 'Salma', 'Alessandra', 'Delilah', 'Moriah', 'Celine', 'Lizeth', 'Beatriz', 'Brianne', 'Kourtney', 'Sydnie', 'Stacey', 'Mariam', 'Robyn', 'Hayden', 'Janessa', 'Kenzie', 'Jalyn', 'Sheila', 'Meaghan', 'Aisha', 'Jaida', 'Shawna', 'Estrella', 'Marley', 'Melinda', 'Ayana', 'Karly', 'Devyn', 'Nataly', 'Loren', 'Rosalinda', 'Brielle', 'Laney', 'Lizette', 'Sally', 'Tracy', 'Lilian', 'Rebeca', 'Chandler', 'Jenifer', 'Valentina', 'America', 'Candice', 'Diane', 'Abigayle', 'Susana', 'Aliya', 'Casandra', 'Harmony', 'Jacey', 'Alena', 'Aylin', 'Carol', 'Shea', 'Stephany', 'Aniyah', 'Zoie', 'Jackeline', 'Alia', 'Savana', 'Damaris', 'Gwendolyn', 'Violet', 'Marian', 'Anita', 'Jaime', 'Alexandrea', 'Jaiden', 'Kristine', 'Carli', 'Dorothy', 'Gretchen', 'Janice', 'Annette', 'Mariela', 'Amani', 'Maura', 'Bella', 'Kaylynn', 'Lila', 'Armani', 'Anissa', 'Aubree', 'Kelsi', 'Greta', 'Kaya', 'Kayli', 'Lillie', 'Willow', 'Ansley', 'Catalina', 'Lia', 'Maci', 'Celina', 'Shyann', 'Alysa', 'Jaquelin', 'Kasandra', 'Quinn', 'Cecelia', 'Mattie', 'Chaya', 'Hailie', 'Haven', 'Kallie', 'Maegan', 'Maeve', 'Rocio', 'Yolanda', 'Christa', 'Gabriel', 'Kari', 'Noelia', 'Jeanette', 'Kaylah', 'Marianna', 'Nya', 'Kennedi', 'Presley', 'Yadira', 'Elissa', 'Nyah', 'Reilly', 'Shaina', 'Alize', 'Arlene', 'Amara', 'Izabella', 'Lyric', 'Aiyana', 'Allyssa', 'Drew', 'Rachelle', 'Adeline', 'Jacklyn', 'Jesse', 'Citlalli', 'Liana', 'Giovanna', 'Princess', 'Selina', 'Brook', 'Elyse', 'Graciela', 'Cali', 'Berenice', 'Chanel', 'Iliana', 'Jolie', 'Caitlynn', 'Christiana', 'Annalise', 'Cortney', 'Darlene', 'Sarina', 'Dasia', 'London', 'Yvonne', 'Karley', 'Shaylee', 'Myah', 'Amira', 'Juanita', 'Kristy', 'Ryleigh', 'Dariana', 'Teagan', 'Kiarra', 'Ryann', 'Yamilet', 'Alexys', 'Kacey', 'Shakira', 'Sheridan', 'Baby', 'Dianna', 'Lara', 'Isabela', 'Reina', 'Shirley', 'Jaycee', 'Silvia', 'Tatianna', 'Eryn', 'Ingrid', 'Keara', 'Randi', 'Reanna', 'Kalyn', 'Lisette', 'Monserrat', 'Lori', 'Abril', 'Ivana', 'Kaela', 'Maranda', 'Parker', 'Darby', 'Darian', 'Jasmyn', 'Jaylin', 'Katia', 'Ayla', 'Bridgette', 'Hillary', 'Kinsey', 'Yazmin', 'Caleigh', 'Elyssa', 'Rita', 'Asha', 'Dayana', 'Nikita', 'Chantel', 'Reese', 'Stefanie', 'Nadine', 'Samara', 'Unique', 'Michele', 'Sonya', 'Hazel', 'Patience', 'Cielo', 'Mireya', 'Paloma', 'Aryanna', 'Magdalena', 'Anaya', 'Dallas', 'Arely', 'Joelle', 'Kaia', 'Misty', 'Norma', 'Taya', 'Deasia', 'Trisha', 'Elsa', 'Joana', 'Alysha', 'Aracely', 'Bryana', 'Dawn', 'Brionna', 'Alex', 'Katerina', 'Ali', 'Bonnie', 'Hadley', 'Martina', 'Maryam', 'Jazmyne', 'Shaniya', 'Alycia', 'Dejah', 'Emmalee', 'Estefania', 'Jakayla', 'Lilliana', 'Nyasia', 'Anjali', 'Daisha', 'Myra', 'Amiya', 'Belen', 'Jana', 'Saige', 'Aja', 'Annabel', 'Scarlett', 'Joanne', 'Aliza', 'Ashly', 'Cydney', 'Destany', 'Fabiola', 'Gia', 'Keira', 'Roxanne', 'Kaci', 'Abigale', 'Abagail', 'Janiya', 'Odalys', 'Aria', 'Daija', 'Delia', 'Kameron', 'Ashtyn', 'Katy', 'Lourdes', 'Raina', 'Dayna', 'Emerald', 'Kirstin', 'Marlee', 'Neha', 'Beatrice', 'Blair', 'Kori', 'Luisa', 'Annamarie', 'Breonna', 'Jena', 'Leann', 'Rhianna', 'Yasmeen', 'Yessenia', 'Breanne', 'Laisha', 'Mandy', 'Amina', 'Jailyn', 'Jayde', 'Jill', 'Katlynn', 'Kaylan', 'Antoinette', 'Kenna', 'Rayna', 'Iyana']\n",
    "first_names_nb = ['Precious', 'Jane', 'Maddison', 'Jayda', 'Kelsie', 'Lexi', 'Phoebe', 'Halle', 'Kiersten', 'Kiera', 'Tyra', 'Annika', 'Felicity', 'Taryn', 'Kaylin', 'Ellen', 'Kiley', 'Jaclyn', 'Rhiannon', 'Madisyn', 'Colleen', 'Joy', 'Pamela', 'Charity', 'Tania', 'Fiona', 'Alyson', 'Kaila', 'Annabelle', 'Emely', 'Angelique', 'Alina', 'Irene', 'Johanna', 'Regan', 'Janelle', 'Janae', 'Madyson', 'Justine', 'Sasha', 'Paulina', 'Mayra', 'Zaria', 'Skye', 'Cora', 'Brisa', 'Emilie', 'Felicia', 'Larissa', 'Macie', 'Tianna', 'Aurora', 'Sage', 'Lucia', 'Alma', 'Chasity', 'Ann', 'Deborah', 'Nichole', 'Jayden', 'Alanna', 'Malia', 'Carlie', 'Angie', 'Nora', 'Kailee', 'Sylvia', 'Carrie', 'Elaina', 'Sonia', 'Genevieve', 'Kenya', 'Piper', 'Marilyn', 'Amari', 'Macey', 'Marlene', 'Barbara', 'Tayler', 'Julianne', 'Brooklynn', 'Lorena', 'Perla', 'Elisa', 'Kaley', 'Leilani', 'Eden', 'Miracle', 'Devin', 'Aileen', 'Chyna', 'Athena', 'Esperanza', 'Regina', 'Adrienne', 'Shyanne', 'Luz', 'Tierra', 'Cristal', 'Clare', 'Eliana', 'Kelli', 'Eve', 'Sydnee', 'Madelynn', 'Breana', 'Melina', 'Arielle', 'Justice', 'Toni', 'Corinne', 'Maia', 'Tess', 'Abbigail', 'Ciera', 'Ebony', 'Maritza', 'Lena', 'Lexie', 'Isis', 'Aimee', 'Leticia', 'Sydni', 'Sarai', 'Halie', 'Alivia', 'Destiney', 'Laurel', 'Edith', 'Carina', 'Fernanda', 'Amya', 'Destini', 'Aspen', 'Nathalie', 'Paula', 'Tanya', 'Frances', 'Tina', 'Christian', 'Elaine', 'Shayna', 'Aniya', 'Mollie', 'Ryan', 'Essence', 'Simone', 'Kyleigh', 'Nikki', 'Anya', 'Reyna', 'Kaylyn', 'Nicolette', 'Savanah', 'Abbie', 'Montana', 'Kailyn', 'Itzel', 'Leila', 'Cayla', 'Stacy', 'Araceli', 'Robin', 'Dulce', 'Candace', 'Noemi', 'Jewel', 'Aleah', 'Ally', 'Mara', 'Nayeli', 'Karlee', 'Keely', 'Alisa', 'Micaela', 'Desirae', 'Lea']\n",
    "last_names = ['Abbott', 'Acevedo', 'Acosta', 'Adams', 'Adkins', 'Aguilar', 'Aguirre', 'Albert', 'Alexander', 'Alford', 'Allen', 'Allison', 'Alston', 'Alvarado', 'Alvarez', 'Anderson', 'Andrews', 'Anthony', 'Armstrong', 'Arnold', 'Ashley', 'Atkins', 'Atkinson', 'Austin', 'Avery', 'Avila', 'Ayala', 'Ayers', 'Bailey', 'Baird', 'Baker', 'Baldwin', 'Ball', 'Ballard', 'Banks', 'Barber', 'Barker', 'Barlow', 'Barnes', 'Barnett', 'Barr', 'Barrera', 'Barrett', 'Barron', 'Barry', 'Bartlett', 'Barton', 'Bass', 'Bates', 'Battle', 'Bauer', 'Baxter', 'Beach', 'Bean', 'Beard', 'Beasley', 'Beck', 'Becker', 'Bell', 'Bender', 'Benjamin', 'Bennett', 'Benson', 'Bentley', 'Benton', 'Berg', 'Berger', 'Bernard', 'Berry', 'Best', 'Bird', 'Bishop', 'Black', 'Blackburn', 'Blackwell', 'Blair', 'Blake', 'Blanchard', 'Blankenship', 'Blevins', 'Bolton', 'Bond', 'Bonner', 'Booker', 'Boone', 'Booth', 'Bowen', 'Bowers', 'Bowman', 'Boyd', 'Boyer', 'Boyle', 'Bradford', 'Bradley', 'Bradshaw', 'Brady', 'Branch', 'Bray', 'Brennan', 'Brewer', 'Bridges', 'Briggs', 'Bright', 'Britt', 'Brock', 'Brooks', 'Brown', 'Browning', 'Bruce', 'Bryan', 'Bryant', 'Buchanan', 'Buck', 'Buckley', 'Buckner', 'Bullock', 'Burch', 'Burgess', 'Burke', 'Burks', 'Burnett', 'Burns', 'Burris', 'Burt', 'Burton', 'Bush', 'Butler', 'Byers', 'Byrd', 'Cabrera', 'Cain', 'Calderon', 'Caldwell', 'Calhoun', 'Callahan', 'Camacho', 'Cameron', 'Campbell', 'Campos', 'Cannon', 'Cantrell', 'Cantu', 'Cardenas', 'Carey', 'Carlson', 'Carney', 'Carpenter', 'Carr', 'Carrillo', 'Carroll', 'Carson', 'Carter', 'Carver', 'Case', 'Casey', 'Cash', 'Castaneda', 'Castillo', 'Castro', 'Cervantes', 'Chambers', 'Chan', 'Chandler', 'Chaney', 'Chang', 'Chapman', 'Charles', 'Chase', 'Chavez', 'Chen', 'Cherry', 'Christensen', 'Christian', 'Church', 'Clark', 'Clarke', 'Clay', 'Clayton', 'Clements', 'Clemons', 'Cleveland', 'Cline', 'Cobb', 'Cochran', 'Coffey', 'Cohen', 'Cole', 'Coleman', 'Collier', 'Collins', 'Colon', 'Combs', 'Compton', 'Conley', 'Conner', 'Conrad', 'Contreras', 'Conway', 'Cook', 'Cooke', 'Cooley', 'Cooper', 'Copeland', 'Cortez', 'Cote', 'Cotton', 'Cox', 'Craft', 'Craig', 'Crane', 'Crawford', 'Crosby', 'Cross', 'Cruz', 'Cummings', 'Cunningham', 'Curry', 'Curtis', 'Dale', 'Dalton', 'Daniel', 'Daniels', 'Daugherty', 'Davenport', 'David', 'Davidson', 'Davis', 'Dawson', 'Day', 'Dean', 'Decker', 'Dejesus', 'Delacruz', 'Delaney', 'Deleon', 'Delgado', 'Dennis', 'Diaz', 'Dickerson', 'Dickson', 'Dillard', 'Dillon', 'Dixon', 'Dodson', 'Dominguez', 'Donaldson', 'Donovan', 'Dorsey', 'Dotson', 'Douglas', 'Downs', 'Doyle', 'Drake', 'Dudley', 'Duffy', 'Duke', 'Duncan', 'Dunlap', 'Dunn', 'Duran', 'Durham', 'Dyer', 'Eaton', 'Edwards', 'Elliott', 'Ellis', 'Ellison', 'Emerson', 'England', 'English', 'Erickson', 'Espinoza', 'Estes', 'Estrada', 'Evans', 'Everett', 'Ewing', 'Farley', 'Farmer', 'Farrell', 'Faulkner', 'Ferguson', 'Fernandez', 'Ferrell', 'Fields', 'Figueroa', 'Finch', 'Finley', 'Fischer', 'Fisher', 'Fitzgerald', 'Fitzpatrick', 'Fleming', 'Fletcher', 'Flores', 'Flowers', 'Floyd', 'Flynn', 'Foley', 'Forbes', 'Ford', 'Foreman', 'Foster', 'Fowler', 'Fox', 'Francis', 'Franco', 'Frank', 'Franklin', 'Franks', 'Frazier', 'Frederick', 'Freeman', 'French', 'Frost', 'Fry', 'Frye', 'Fuentes', 'Fuller', 'Fulton', 'Gaines', 'Gallagher', 'Gallegos', 'Galloway', 'Gamble', 'Garcia', 'Gardner', 'Garner', 'Garrett', 'Garrison', 'Garza', 'Gates', 'Gay', 'Gentry', 'George', 'Gibbs', 'Gibson', 'Gilbert', 'Giles', 'Gill', 'Gillespie', 'Gilliam', 'Gilmore', 'Glass', 'Glenn', 'Glover', 'Goff', 'Golden', 'Gomez', 'Gonzales', 'Gonzalez', 'Good', 'Goodman', 'Goodwin', 'Gordon', 'Gould', 'Graham', 'Grant', 'Graves', 'Gray', 'Green', 'Greene', 'Greer', 'Gregory', 'Griffin', 'Griffith', 'Grimes', 'Gross', 'Guerra', 'Guerrero', 'Guthrie', 'Gutierrez', 'Guy', 'Guzman', 'Hahn', 'Hale', 'Haley', 'Hall', 'Hamilton', 'Hammond', 'Hampton', 'Hancock', 'Haney', 'Hansen', 'Hanson', 'Hardin', 'Harding', 'Hardy', 'Harmon', 'Harper', 'Harrell', 'Harrington', 'Harris', 'Harrison', 'Hart', 'Hartman', 'Harvey', 'Hatfield', 'Hawkins', 'Hayden', 'Hayes', 'Haynes', 'Hays', 'Head', 'Heath', 'Hebert', 'Henderson', 'Hendricks', 'Hendrix', 'Henry', 'Hensley', 'Henson', 'Herman', 'Hernandez', 'Herrera', 'Herring', 'Hess', 'Hester', 'Hewitt', 'Hickman', 'Hicks', 'Higgins', 'Hill', 'Hines', 'Hinton', 'Hobbs', 'Hodge', 'Hodges', 'Hoffman', 'Hogan', 'Holcomb', 'Holden', 'Holder', 'Holland', 'Holloway', 'Holman', 'Holmes', 'Holt', 'Hood', 'Hooper', 'Hoover', 'Hopkins', 'Hopper', 'Horn', 'Horne', 'Horton', 'House', 'Houston', 'Howard', 'Howe', 'Howell', 'Hubbard', 'Huber', 'Hudson', 'Huff', 'Huffman', 'Hughes', 'Hull', 'Humphrey', 'Hunt', 'Hunter', 'Hurley', 'Hurst', 'Hutchinson', 'Hyde', 'Ingram', 'Irwin', 'Jackson', 'Jacobs', 'Jacobson', 'James', 'Jarvis', 'Jefferson', 'Jenkins', 'Jennings', 'Jensen', 'Jimenez', 'Johns', 'Johnson', 'Johnston', 'Jones', 'Jordan', 'Joseph', 'Joyce', 'Joyner', 'Juarez', 'Justice', 'Kane', 'Kaufman', 'Keith', 'Keller', 'Kelley', 'Kelly', 'Kemp', 'Kennedy', 'Kent', 'Kerr', 'Key', 'Kidd', 'Kim', 'King', 'Kinney', 'Kirby', 'Kirk', 'Kirkland', 'Klein', 'Kline', 'Knapp', 'Knight', 'Knowles', 'Knox', 'Koch', 'Kramer', 'Lamb', 'Lambert', 'Lancaster', 'Landry', 'Lane', 'Lang', 'Langley', 'Lara', 'Larsen', 'Larson', 'Lawrence', 'Lawson', 'Le', 'Leach', 'Leblanc', 'Lee', 'Leon', 'Leonard', 'Lester', 'Levine', 'Levy', 'Lewis', 'Lindsay', 'Lindsey', 'Little', 'Livingston', 'Lloyd', 'Logan', 'Long', 'Lopez', 'Lott', 'Love', 'Lowe', 'Lowery', 'Lucas', 'Luna', 'Lynch', 'Lynn', 'Lyons', 'Macdonald', 'Macias', 'Mack', 'Madden', 'Maddox', 'Maldonado', 'Malone', 'Mann', 'Manning', 'Marks', 'Marquez', 'Marsh', 'Marshall', 'Martin', 'Martinez', 'Mason', 'Massey', 'Mathews', 'Mathis', 'Matthews', 'Maxwell', 'May', 'Mayer', 'Maynard', 'Mayo', 'Mays', 'Mcbride', 'Mccall', 'Mccarthy', 'Mccarty', 'Mcclain', 'Mcclure', 'Mcconnell', 'Mccormick', 'Mccoy', 'Mccray', 'Mccullough', 'Mcdaniel', 'Mcdonald', 'Mcdowell', 'Mcfadden', 'Mcfarland', 'Mcgee', 'Mcgowan', 'Mcguire', 'Mcintosh', 'Mcintyre', 'Mckay', 'Mckee', 'Mckenzie', 'Mckinney', 'Mcknight', 'Mclaughlin', 'Mclean', 'Mcleod', 'Mcmahon', 'Mcmillan', 'Mcneil', 'Mcpherson', 'Meadows', 'Medina', 'Mejia', 'Melendez', 'Melton', 'Mendez', 'Mendoza', 'Mercado', 'Mercer', 'Merrill', 'Merritt', 'Meyer', 'Meyers', 'Michael', 'Middleton', 'Miles', 'Miller', 'Mills', 'Miranda', 'Mitchell', 'Molina', 'Monroe', 'Montgomery', 'Montoya', 'Moody', 'Moon', 'Mooney', 'Moore', 'Morales', 'Moran', 'Moreno', 'Morgan', 'Morin', 'Morris', 'Morrison', 'Morrow', 'Morse', 'Morton', 'Moses', 'Mosley', 'Moss', 'Mueller', 'Mullen', 'Mullins', 'Munoz', 'Murphy', 'Murray', 'Myers', 'Nash', 'Navarro', 'Neal', 'Nelson', 'Newman', 'Newton', 'Nguyen', 'Nichols', 'Nicholson', 'Nielsen', 'Nieves', 'Nixon', 'Noble', 'Noel', 'Nolan', 'Norman', 'Norris', 'Norton', 'Nunez', 'Obrien', 'Ochoa', 'Oconnor', 'Odom', 'Odonnell', 'Oliver', 'Olsen', 'Olson', 'Oneal', 'Oneil', 'Oneill', 'Orr', 'Ortega', 'Ortiz', 'Osborn', 'Osborne', 'Owen', 'Owens', 'Pace', 'Pacheco', 'Padilla', 'Page', 'Palmer', 'Park', 'Parker', 'Parks', 'Parrish', 'Parsons', 'Pate', 'Patel', 'Patrick', 'Patterson', 'Patton', 'Paul', 'Payne', 'Pearson', 'Peck', 'Pena', 'Pennington', 'Perez', 'Perkins', 'Perry', 'Peters', 'Petersen', 'Peterson', 'Petty', 'Phelps', 'Phillips', 'Pickett', 'Pierce', 'Pittman', 'Pitts', 'Pollard', 'Poole', 'Pope', 'Porter', 'Potter', 'Potts', 'Powell', 'Powers', 'Pratt', 'Preston', 'Price', 'Prince', 'Pruitt', 'Puckett', 'Pugh', 'Quinn', 'Ramirez', 'Ramos', 'Ramsey', 'Randall', 'Randolph', 'Rasmussen', 'Ratliff', 'Ray', 'Raymond', 'Reed', 'Reese', 'Reeves', 'Reid', 'Reilly', 'Reyes', 'Reynolds', 'Rhodes', 'Rice', 'Rich', 'Richard', 'Richards', 'Richardson', 'Richmond', 'Riddle', 'Riggs', 'Riley', 'Rios', 'Rivas', 'Rivera', 'Rivers', 'Roach', 'Robbins', 'Roberson', 'Roberts', 'Robertson', 'Robinson', 'Robles', 'Rocha', 'Rodgers', 'Rodriguez', 'Rodriquez', 'Rogers', 'Rojas', 'Rollins', 'Roman', 'Romero', 'Rosa', 'Rosales', 'Rosario', 'Rose', 'Ross', 'Roth', 'Rowe', 'Rowland', 'Roy', 'Ruiz', 'Rush', 'Russell', 'Russo', 'Rutledge', 'Ryan', 'Salas', 'Salazar', 'Salinas', 'Sampson', 'Sanchez', 'Sanders', 'Sandoval', 'Sanford', 'Santana', 'Santiago', 'Santos', 'Sargent', 'Saunders', 'Savage', 'Sawyer', 'Schmidt', 'Schneider', 'Schroeder', 'Schultz', 'Schwartz', 'Scott', 'Sears', 'Sellers', 'Serrano', 'Sexton', 'Shaffer', 'Shannon', 'Sharp', 'Sharpe', 'Shaw', 'Shelton', 'Shepard', 'Shepherd', 'Sheppard', 'Sherman', 'Shields', 'Short', 'Silva', 'Simmons', 'Simon', 'Simpson', 'Sims', 'Singleton', 'Skinner', 'Slater', 'Sloan', 'Small', 'Smith', 'Snider', 'Snow', 'Snyder', 'Solis', 'Solomon', 'Sosa', 'Soto', 'Sparks', 'Spears', 'Spence', 'Spencer', 'Stafford', 'Stanley', 'Stanton', 'Stark', 'Steele', 'Stein', 'Stephens', 'Stephenson', 'Stevens', 'Stevenson', 'Stewart', 'Stokes', 'Stone', 'Stout', 'Strickland', 'Strong', 'Stuart', 'Suarez', 'Sullivan', 'Summers', 'Sutton', 'Swanson', 'Sweeney', 'Sweet', 'Sykes', 'Talley', 'Tanner', 'Tate', 'Taylor', 'Terrell', 'Terry', 'Thomas', 'Thompson', 'Thornton', 'Tillman', 'Todd', 'Torres', 'Townsend', 'Tran', 'Travis', 'Trevino', 'Trujillo', 'Tucker', 'Turner', 'Tyler', 'Tyson', 'Underwood', 'Valdez', 'Valencia', 'Valentine', 'Valenzuela', 'Vance', 'Vang', 'Vargas', 'Vasquez', 'Vaughan', 'Vaughn', 'Vazquez', 'Vega', 'Velasquez', 'Velazquez', 'Velez', 'Villarreal', 'Vincent', 'Vinson', 'Wade', 'Wagner', 'Walker', 'Wall', 'Wallace', 'Waller', 'Walls', 'Walsh', 'Walter', 'Walters', 'Walton', 'Ward', 'Ware', 'Warner', 'Warren', 'Washington', 'Waters', 'Watkins', 'Watson', 'Watts', 'Weaver', 'Webb', 'Weber', 'Webster', 'Weeks', 'Weiss', 'Welch', 'Wells', 'West', 'Wheeler', 'Whitaker', 'White', 'Whitehead', 'Whitfield', 'Whitley', 'Whitney', 'Wiggins', 'Wilcox', 'Wilder', 'Wiley', 'Wilkerson', 'Wilkins', 'Wilkinson', 'William', 'Williams', 'Williamson', 'Willis', 'Wilson', 'Winters', 'Wise', 'Witt', 'Wolf', 'Wolfe', 'Wong', 'Wood', 'Woodard']\n",
    "gender = ['F', 'M', 'NB']\n",
    "\n",
    "# Dictionary of frequent female names with an assigned gender \"F\" value.\n",
    "gender_f = ['F'] * 993\n",
    "gender_f_zip = zip(first_names_f, gender_f)\n",
    "first_names_f_dict = dict(gender_f_zip)\n",
    "\n",
    "# Dictionary of frequent male names with an assigned gender \"M\" value.\n",
    "gender_m = ['M'] * 995\n",
    "gender_m_zip = zip(first_names_m, gender_m)\n",
    "first_names_m_dict = dict(gender_m_zip)\n",
    "\n",
    "# Dictionary of frequent non-binary names with an assigned gender \"NB\" value.\n",
    "# Smaller number of items corresponds to lower percentage in population.\n",
    "gender_nb = ['NB'] * 132\n",
    "gender_nb_zip = zip(first_names_nb, gender_nb)\n",
    "first_names_nb_dict = dict(gender_nb_zip)\n",
    "\n",
    "# Agreggated name/gender dictionary\n",
    "first_names_f_dict.update(first_names_m_dict)\n",
    "first_names_f_dict.update(first_names_nb_dict)\n",
    "first_names_dict = first_names_f_dict\n"
   ]
  },
  {
   "cell_type": "code",
   "execution_count": 17,
   "metadata": {},
   "outputs": [
    {
     "name": "stdout",
     "output_type": "stream",
     "text": [
      "{'United Kingdom': 49137, 'Spain': 48672, 'Italy': 49360, 'Netherlands': 32173, 'France': 28313, 'Denmark': 16923, 'Switzerland': 20268, 'Russia': 15992, 'Sweden': 15146, 'Poland': 23181, 'Austria': 16158, 'Finland': 8256, 'Belgium': 10895, 'Norway': 6786, 'Ireland, Republic': 5189, 'Ukraine': 6012, 'Greece': 3273, 'Turkey': 5104, 'Czech Republic': 7305, 'Portugal': 4299, 'Romania': 3385, 'Hungary': 2996, 'Latvia': 2269, 'Slovakia': 1464, 'Iceland': 1467, 'Lithuania': 1867, 'Luxembourg': 1821, 'Estonia': 1621, 'Bulgaria': 1065, 'Slovenia': 1134, 'Croatia': 1002, 'Cyprus': 1114, 'Malta': 476, 'USA': 49448, 'Brazil': 6673, 'Canada': 6595, 'Israel': 9583, 'China': 14871, 'Arabic Gulf States': 5757, 'Japan': 5358, 'India': 2717, 'South Korea': 3914, 'Taiwan': 1870, 'Australia': 10974, 'New Zealand, Oceania': 1567, 'South Africa': 715}\n"
     ]
    }
   ],
   "source": [
    "# Full list of countries in the world not used\n",
    "# countries = [\"Afghanistan\", \"Albania\", \"Algeria\", \"American Samoa\", \"Andorra\", \"Angola\", \"Anguilla\", \"Antarctica\", \"Antigua and Barbuda\", \"Argentina\", \"Armenia\", \"Aruba\", \"Australia\", \"Austria\", \"Azerbaijan\", \"Bahamas\", \"Bahrain\", \"Bangladesh\", \"Barbados\", \"Belarus\", \"Belgium\", \"Belize\", \"Benin\", \"Bermuda\", \"Bhutan\", \"Bolivia\", \"Bosnia and Herzegowina\", \"Botswana\", \"Bouvet Island\", \"Brazil\", \"British Indian Ocean Territory\", \"Brunei Darussalam\", \"Bulgaria\", \"Burkina Faso\", \"Burundi\", \"Cambodia\", \"Cameroon\", \"Canada\", \"Cape Verde\", \"Cayman Islands\", \"Central African Republic\", \"Chad\", \"Chile\", \"China\", \"Christmas Island\", \"Cocos (Keeling) Islands\", \"Colombia\", \"Comoros\", \"Congo\", \"Congo, the Democratic Republic of the\", \"Cook Islands\", \"Costa Rica\", \"Cote d'Ivoire\", \"Croatia (Hrvatska)\", \"Cuba\", \"Cyprus\", \"Czech Republic\", \"Denmark\", \"Djibouti\", \"Dominica\", \"Dominican Republic\", \"East Timor\", \"Ecuador\", \"Egypt\", \"El Salvador\", \"Equatorial Guinea\", \"Eritrea\", \"Estonia\", \"Ethiopia\", \"Falkland Islands (Malvinas)\", \"Faroe Islands\", \"Fiji\", \"Finland\", \"France\", \"France Metropolitan\", \"French Guiana\", \"French Polynesia\", \"French Southern Territories\", \"Gabon\", \"Gambia\", \"Georgia\", \"Germany\", \"Ghana\", \"Gibraltar\", \"Greece\", \"Greenland\", \"Grenada\", \"Guadeloupe\", \"Guam\", \"Guatemala\", \"Guinea\", \"Guinea-Bissau\", \"Guyana\", \"Haiti\", \"Heard and Mc Donald Islands\", \"Holy See (Vatican City State)\", \"Honduras\", \"Hong Kong\", \"Hungary\", \"Iceland\", \"India\", \"Indonesia\", \"Iran (Islamic Republic of)\", \"Iraq\", \"Ireland\", \"Israel\", \"Italy\", \"Jamaica\", \"Japan\", \"Jordan\", \"Kazakhstan\", \"Kenya\", \"Kiribati\", \"Korea, Democratic People's Republic of\", \"Korea, Republic of\", \"Kuwait\", \"Kyrgyzstan\", \"Lao, People's Democratic Republic\", \"Latvia\", \"Lebanon\", \"Lesotho\", \"Liberia\", \"Libyan Arab Jamahiriya\", \"Liechtenstein\", \"Lithuania\", \"Luxembourg\", \"Macau\", \"Macedonia, The Former Yugoslav Republic of\", \"Madagascar\", \"Malawi\", \"Malaysia\", \"Maldives\", \"Mali\", \"Malta\", \"Marshall Islands\", \"Martinique\", \"Mauritania\", \"Mauritius\", \"Mayotte\", \"Mexico\", \"Micronesia, Federated States of\", \"Moldova, Republic of\", \"Monaco\", \"Mongolia\", \"Montserrat\", \"Morocco\", \"Mozambique\", \"Myanmar\", \"Namibia\", \"Nauru\", \"Nepal\", \"Netherlands\", \"Netherlands Antilles\", \"New Caledonia\", \"New Zealand\", \"Nicaragua\", \"Niger\", \"Nigeria\", \"Niue\", \"Norfolk Island\", \"Northern Mariana Islands\", \"Norway\", \"Oman\", \"Pakistan\", \"Palau\", \"Panama\", \"Papua New Guinea\", \"Paraguay\", \"Peru\", \"Philippines\", \"Pitcairn\", \"Poland\", \"Portugal\", \"Puerto Rico\", \"Qatar\", \"Reunion\", \"Romania\", \"Russian Federation\", \"Rwanda\", \"Saint Kitts and Nevis\", \"Saint Lucia\", \"Saint Vincent and the Grenadines\", \"Samoa\", \"San Marino\", \"Sao Tome and Principe\", \"Saudi Arabia\", \"Senegal\", \"Seychelles\", \"Sierra Leone\", \"Singapore\", \"Slovakia (Slovak Republic)\", \"Slovenia\", \"Solomon Islands\", \"Somalia\", \"South Africa\", \"South Georgia and the South Sandwich Islands\", \"Spain\", \"Sri Lanka\", \"St. Helena\", \"St. Pierre and Miquelon\", \"Sudan\", \"Suriname\", \"Svalbard and Jan Mayen Islands\", \"Swaziland\", \"Sweden\", \"Switzerland\", \"Syrian Arab Republic\", \"Taiwan, Province of China\", \"Tajikistan\", \"Tanzania, United Republic of\", \"Thailand\", \"Togo\", \"Tokelau\", \"Tonga\", \"Trinidad and Tobago\", \"Tunisia\", \"Turkey\", \"Turkmenistan\", \"Turks and Caicos Islands\", \"Tuvalu\", \"Uganda\", \"Ukraine\", \"United Arab Emirates\", \"United Kingdom\", \"United States\", \"United States Minor Outlying Islands\", \"Uruguay\", \"Uzbekistan\", \"Vanuatu\", \"Venezuela\", \"Vietnam\", \"Virgin Islands (British)\", \"Virgin Islands (U.S.)\", \"Wallis and Futuna Islands\", \"Western Sahara\", \"Yemen\", \"Yugoslavia\", \"Zambia\", \"Zimbabwe\"]\n",
    "\n",
    "# List of top countries ranked by number of visitors in August 2019 (from www.visitberlin.de)\n",
    "countries_by_visitors = pd.read_csv('Guests_Berlin_Aug_2019.csv')\n",
    "countries_dict = dict(zip(countries_by_visitors.country, countries_by_visitors.visitors))\n",
    "print(countries_dict)\n",
    "\n"
   ]
  },
  {
   "cell_type": "code",
   "execution_count": 18,
   "metadata": {},
   "outputs": [],
   "source": [
    "dataFinal = pd.read_csv(\"data_final.csv\") # We're going to create a new dimension called \"randomGroup\" so we need this df\n",
    "artworksIds = len(dataFinal)"
   ]
  },
  {
   "cell_type": "code",
   "execution_count": 19,
   "metadata": {},
   "outputs": [],
   "source": [
    "randomGroup = []\n",
    "for i in range(571):\n",
    "    tempRanNum = random.randint(0, 7) # Let's say there are 8 main groups, 12.5% aprox.\n",
    "    randomGroup.append(tempRanNum)\n",
    "\n",
    "dataFinal[\"randomGroup\"] = randomGroup"
   ]
  },
  {
   "cell_type": "code",
   "execution_count": 20,
   "metadata": {},
   "outputs": [
    {
     "data": {
      "text/plain": [
       "0    6\n",
       "1    1\n",
       "2    6\n",
       "3    6\n",
       "4    1\n",
       "5    2\n",
       "6    5\n",
       "7    2\n",
       "8    4\n",
       "9    0\n",
       "Name: randomGroup, dtype: int64"
      ]
     },
     "execution_count": 20,
     "metadata": {},
     "output_type": "execute_result"
    }
   ],
   "source": [
    "dataFinal[\"randomGroup\"].head(10) # Each number would correspond to an \"artistic taste\""
   ]
  },
  {
   "cell_type": "code",
   "execution_count": 21,
   "metadata": {},
   "outputs": [
    {
     "data": {
      "text/plain": [
       "<AxesSubplot:>"
      ]
     },
     "execution_count": 21,
     "metadata": {},
     "output_type": "execute_result"
    },
    {
     "data": {
      "image/png": "[encoded data removed]",
      "text/plain": [
       "<Figure size 432x288 with 1 Axes>"
      ]
     },
     "metadata": {
      "needs_background": "light"
     },
     "output_type": "display_data"
    }
   ],
   "source": [
    "dataFinal[\"randomGroup\"].hist() # Seems to be balanced enough"
   ]
  },
  {
   "cell_type": "code",
   "execution_count": 22,
   "metadata": {},
   "outputs": [],
   "source": [
    "def chooseRandImage(dataset, taste):\n",
    "    subset = dataset[dataset[\"randomGroup\"] == taste]\n",
    "    artRange = subset.index.tolist()\n",
    "    ranLike = random.choice(artRange)\n",
    "    return ranLike"
   ]
  },
  {
   "cell_type": "code",
   "execution_count": 23,
   "metadata": {},
   "outputs": [],
   "source": [
    "def checkRandImage(randLike, liked_list):\n",
    "    return randLike in liked_list"
   ]
  },
  {
   "cell_type": "code",
   "execution_count": 24,
   "metadata": {},
   "outputs": [],
   "source": [
    "# Row generator with random data from the created lists and dictionaries.\n",
    "\n",
    "\n",
    "for j, taste in enumerate(range(0, 8)):\n",
    "    \n",
    "    \n",
    "    for user in range(50):\n",
    "        liked_list = [] # I don't see why creating a \"saved list\" so I'm using just this one\n",
    "        saved_list = [] # (Emma) We might need to have some sort of info on saved images in the database,\n",
    "                        # since there will be a slider in the user profile (not used for association rules mining)\n",
    "        \n",
    "        first_name = random.choice(list(first_names_dict.keys()))\n",
    "        last_name = random.choice(last_names)\n",
    "        email = first_name + '.' + last_name + '@pmail.com'\n",
    "        age = random.randrange(18, 65)\n",
    "        gender = first_names_dict[first_name]\n",
    "        country = random.choices(list(countries_dict.keys()), weights = countries_dict.values())\n",
    "        userId = (50*j + user)\n",
    "        \n",
    "        for pieceLiked in range(50):\n",
    "            # Random \"liked artworks\" lists\n",
    "            randGroup = random.randint(1, 100)\n",
    "            if randGroup > 25: # 3 out of 4 times a user will like a piece his own taste\n",
    "                randLike = chooseRandImage(dataFinal, taste)\n",
    "                while checkRandImage(randLike, liked_list): # If user already liked it -> choose again\n",
    "                    randLike = chooseRandImage(dataFinal, taste)\n",
    "\n",
    "            else:\n",
    "                tasteRange = [m for m in range(0, 8) if m not in [taste]] # The user likes a piece different than his usual taste\n",
    "                randTaste = random.choice(tasteRange)\n",
    "                randLike = chooseRandImage(dataFinal, randTaste)\n",
    "                while checkRandImage(randLike, liked_list):\n",
    "                    # If user already liked it -> choose again\n",
    "                    randLike = chooseRandImage(dataFinal, randTaste)\n",
    "\n",
    "            liked_list.append(randLike)\n",
    "\n",
    "        random_range_s = random.randrange(0, 10)\n",
    "        \n",
    "        for s in range(random_range_s):\n",
    "            n = random.randint(1,572)\n",
    "            saved_list.append(n)\n",
    "\n",
    "            \n",
    "        df.loc[userId] = [userId, first_name, last_name, email, age, gender, str(country)[1:-1], liked_list, saved_list]"
   ]
  },
  {
   "cell_type": "code",
   "execution_count": 25,
   "metadata": {},
   "outputs": [
    {
     "data": {
      "text/html": [
       "<div>\n",
       "<style scoped>\n",
       "    .dataframe tbody tr th:only-of-type {\n",
       "        vertical-align: middle;\n",
       "    }\n",
       "\n",
       "    .dataframe tbody tr th {\n",
       "        vertical-align: top;\n",
       "    }\n",
       "\n",
       "    .dataframe thead th {\n",
       "        text-align: right;\n",
       "    }\n",
       "</style>\n",
       "<table border=\"1\" class=\"dataframe\">\n",
       "  <thead>\n",
       "    <tr style=\"text-align: right;\">\n",
       "      <th></th>\n",
       "      <th>id</th>\n",
       "      <th>first_name</th>\n",
       "      <th>last_name</th>\n",
       "      <th>email</th>\n",
       "      <th>age</th>\n",
       "      <th>gender</th>\n",
       "      <th>country</th>\n",
       "      <th>liked</th>\n",
       "      <th>saved</th>\n",
       "    </tr>\n",
       "  </thead>\n",
       "  <tbody>\n",
       "    <tr>\n",
       "      <th>0</th>\n",
       "      <td>0</td>\n",
       "      <td>Macy</td>\n",
       "      <td>Le</td>\n",
       "      <td>Macy.Le@pmail.com</td>\n",
       "      <td>23</td>\n",
       "      <td>F</td>\n",
       "      <td>'Spain'</td>\n",
       "      <td>[19, 515, 545, 480, 495, 133, 9, 42, 247, 405,...</td>\n",
       "      <td>[530, 205, 272, 266, 404, 59, 285, 233, 311]</td>\n",
       "    </tr>\n",
       "    <tr>\n",
       "      <th>1</th>\n",
       "      <td>1</td>\n",
       "      <td>Audrey</td>\n",
       "      <td>Vazquez</td>\n",
       "      <td>Audrey.Vazquez@pmail.com</td>\n",
       "      <td>59</td>\n",
       "      <td>F</td>\n",
       "      <td>'France'</td>\n",
       "      <td>[567, 166, 319, 127, 561, 552, 345, 222, 44, 1...</td>\n",
       "      <td>[508, 288]</td>\n",
       "    </tr>\n",
       "    <tr>\n",
       "      <th>2</th>\n",
       "      <td>2</td>\n",
       "      <td>Cobie</td>\n",
       "      <td>Barker</td>\n",
       "      <td>Cobie.Barker@pmail.com</td>\n",
       "      <td>41</td>\n",
       "      <td>M</td>\n",
       "      <td>'Japan'</td>\n",
       "      <td>[146, 280, 234, 133, 451, 259, 391, 303, 502, ...</td>\n",
       "      <td>[559, 548, 516, 122, 454, 393, 468, 484, 149]</td>\n",
       "    </tr>\n",
       "    <tr>\n",
       "      <th>3</th>\n",
       "      <td>3</td>\n",
       "      <td>Forbes</td>\n",
       "      <td>Mckay</td>\n",
       "      <td>Forbes.Mckay@pmail.com</td>\n",
       "      <td>31</td>\n",
       "      <td>M</td>\n",
       "      <td>'Netherlands'</td>\n",
       "      <td>[10, 205, 505, 270, 19, 356, 440, 247, 145, 28...</td>\n",
       "      <td>[68, 74, 548, 245]</td>\n",
       "    </tr>\n",
       "    <tr>\n",
       "      <th>4</th>\n",
       "      <td>4</td>\n",
       "      <td>Nicole</td>\n",
       "      <td>Burns</td>\n",
       "      <td>Nicole.Burns@pmail.com</td>\n",
       "      <td>45</td>\n",
       "      <td>F</td>\n",
       "      <td>'Italy'</td>\n",
       "      <td>[561, 280, 451, 296, 373, 344, 364, 182, 480, ...</td>\n",
       "      <td>[555]</td>\n",
       "    </tr>\n",
       "    <tr>\n",
       "      <th>...</th>\n",
       "      <td>...</td>\n",
       "      <td>...</td>\n",
       "      <td>...</td>\n",
       "      <td>...</td>\n",
       "      <td>...</td>\n",
       "      <td>...</td>\n",
       "      <td>...</td>\n",
       "      <td>...</td>\n",
       "      <td>...</td>\n",
       "    </tr>\n",
       "    <tr>\n",
       "      <th>395</th>\n",
       "      <td>395</td>\n",
       "      <td>Raquel</td>\n",
       "      <td>Delgado</td>\n",
       "      <td>Raquel.Delgado@pmail.com</td>\n",
       "      <td>61</td>\n",
       "      <td>F</td>\n",
       "      <td>'Netherlands'</td>\n",
       "      <td>[430, 469, 62, 8, 540, 442, 399, 550, 516, 290...</td>\n",
       "      <td>[431, 419, 338, 455, 471, 480]</td>\n",
       "    </tr>\n",
       "    <tr>\n",
       "      <th>396</th>\n",
       "      <td>396</td>\n",
       "      <td>Cruz</td>\n",
       "      <td>Adams</td>\n",
       "      <td>Cruz.Adams@pmail.com</td>\n",
       "      <td>53</td>\n",
       "      <td>M</td>\n",
       "      <td>'Switzerland'</td>\n",
       "      <td>[12, 41, 132, 235, 134, 267, 496, 210, 29, 27,...</td>\n",
       "      <td>[533, 55, 376]</td>\n",
       "    </tr>\n",
       "    <tr>\n",
       "      <th>397</th>\n",
       "      <td>397</td>\n",
       "      <td>Nyasia</td>\n",
       "      <td>Macias</td>\n",
       "      <td>Nyasia.Macias@pmail.com</td>\n",
       "      <td>52</td>\n",
       "      <td>F</td>\n",
       "      <td>'USA'</td>\n",
       "      <td>[516, 151, 494, 305, 33, 364, 262, 22, 360, 52...</td>\n",
       "      <td>[316, 129, 474]</td>\n",
       "    </tr>\n",
       "    <tr>\n",
       "      <th>398</th>\n",
       "      <td>398</td>\n",
       "      <td>Celeste</td>\n",
       "      <td>Branch</td>\n",
       "      <td>Celeste.Branch@pmail.com</td>\n",
       "      <td>64</td>\n",
       "      <td>F</td>\n",
       "      <td>'Belgium'</td>\n",
       "      <td>[238, 235, 567, 569, 504, 439, 456, 528, 239, ...</td>\n",
       "      <td>[429, 279, 72, 100, 423, 162]</td>\n",
       "    </tr>\n",
       "    <tr>\n",
       "      <th>399</th>\n",
       "      <td>399</td>\n",
       "      <td>Wendy</td>\n",
       "      <td>Patel</td>\n",
       "      <td>Wendy.Patel@pmail.com</td>\n",
       "      <td>49</td>\n",
       "      <td>F</td>\n",
       "      <td>'France'</td>\n",
       "      <td>[243, 467, 21, 367, 100, 17, 12, 439, 75, 156,...</td>\n",
       "      <td>[179, 448]</td>\n",
       "    </tr>\n",
       "  </tbody>\n",
       "</table>\n",
       "<p>400 rows × 9 columns</p>\n",
       "</div>"
      ],
      "text/plain": [
       "      id first_name last_name                     email age gender  \\\n",
       "0      0       Macy        Le         Macy.Le@pmail.com  23      F   \n",
       "1      1     Audrey   Vazquez  Audrey.Vazquez@pmail.com  59      F   \n",
       "2      2      Cobie    Barker    Cobie.Barker@pmail.com  41      M   \n",
       "3      3     Forbes     Mckay    Forbes.Mckay@pmail.com  31      M   \n",
       "4      4     Nicole     Burns    Nicole.Burns@pmail.com  45      F   \n",
       "..   ...        ...       ...                       ...  ..    ...   \n",
       "395  395     Raquel   Delgado  Raquel.Delgado@pmail.com  61      F   \n",
       "396  396       Cruz     Adams      Cruz.Adams@pmail.com  53      M   \n",
       "397  397     Nyasia    Macias   Nyasia.Macias@pmail.com  52      F   \n",
       "398  398    Celeste    Branch  Celeste.Branch@pmail.com  64      F   \n",
       "399  399      Wendy     Patel     Wendy.Patel@pmail.com  49      F   \n",
       "\n",
       "           country                                              liked  \\\n",
       "0          'Spain'  [19, 515, 545, 480, 495, 133, 9, 42, 247, 405,...   \n",
       "1         'France'  [567, 166, 319, 127, 561, 552, 345, 222, 44, 1...   \n",
       "2          'Japan'  [146, 280, 234, 133, 451, 259, 391, 303, 502, ...   \n",
       "3    'Netherlands'  [10, 205, 505, 270, 19, 356, 440, 247, 145, 28...   \n",
       "4          'Italy'  [561, 280, 451, 296, 373, 344, 364, 182, 480, ...   \n",
       "..             ...                                                ...   \n",
       "395  'Netherlands'  [430, 469, 62, 8, 540, 442, 399, 550, 516, 290...   \n",
       "396  'Switzerland'  [12, 41, 132, 235, 134, 267, 496, 210, 29, 27,...   \n",
       "397          'USA'  [516, 151, 494, 305, 33, 364, 262, 22, 360, 52...   \n",
       "398      'Belgium'  [238, 235, 567, 569, 504, 439, 456, 528, 239, ...   \n",
       "399       'France'  [243, 467, 21, 367, 100, 17, 12, 439, 75, 156,...   \n",
       "\n",
       "                                             saved  \n",
       "0     [530, 205, 272, 266, 404, 59, 285, 233, 311]  \n",
       "1                                       [508, 288]  \n",
       "2    [559, 548, 516, 122, 454, 393, 468, 484, 149]  \n",
       "3                               [68, 74, 548, 245]  \n",
       "4                                            [555]  \n",
       "..                                             ...  \n",
       "395                 [431, 419, 338, 455, 471, 480]  \n",
       "396                                 [533, 55, 376]  \n",
       "397                                [316, 129, 474]  \n",
       "398                  [429, 279, 72, 100, 423, 162]  \n",
       "399                                     [179, 448]  \n",
       "\n",
       "[400 rows x 9 columns]"
      ]
     },
     "execution_count": 25,
     "metadata": {},
     "output_type": "execute_result"
    }
   ],
   "source": [
    "df"
   ]
  },
  {
   "cell_type": "code",
   "execution_count": 26,
   "metadata": {},
   "outputs": [],
   "source": [
    "# Save mock user rows to csv\n",
    "df.to_json('users.json')"
   ]
  }
 ],
 "metadata": {
  "kernelspec": {
   "display_name": "Python 3",
   "language": "python",
   "name": "python3"
  },
  "language_info": {
   "codemirror_mode": {
    "name": "ipython",
    "version": 3
   },
   "file_extension": ".py",
   "mimetype": "text/x-python",
   "name": "python",
   "nbconvert_exporter": "python",
   "pygments_lexer": "ipython3",
   "version": "3.8.5"
  }
 },
 "nbformat": 4,
 "nbformat_minor": 4
}
