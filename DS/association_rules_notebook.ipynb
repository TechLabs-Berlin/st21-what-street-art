{
 "cells": [
  {
   "cell_type": "code",
   "execution_count": 1,
   "metadata": {},
   "outputs": [],
   "source": [
    "import matplotlib.pyplot as plt\n",
    "import pandas as pd\n",
    "import numpy as np\n",
    "from apyori import apriori"
   ]
  },
  {
   "cell_type": "code",
   "execution_count": 12,
   "metadata": {},
   "outputs": [
    {
     "name": "stdout",
     "output_type": "stream",
     "text": [
      "/c/Users/nineve/AppData/Local/Microsoft/WindowsApps/python3\n"
     ]
    }
   ],
   "source": [
    "!which python3"
   ]
  },
  {
   "cell_type": "code",
   "execution_count": 2,
   "metadata": {},
   "outputs": [
    {
     "data": {
      "text/html": [
       "<div>\n",
       "<style scoped>\n",
       "    .dataframe tbody tr th:only-of-type {\n",
       "        vertical-align: middle;\n",
       "    }\n",
       "\n",
       "    .dataframe tbody tr th {\n",
       "        vertical-align: top;\n",
       "    }\n",
       "\n",
       "    .dataframe thead th {\n",
       "        text-align: right;\n",
       "    }\n",
       "</style>\n",
       "<table border=\"1\" class=\"dataframe\">\n",
       "  <thead>\n",
       "    <tr style=\"text-align: right;\">\n",
       "      <th></th>\n",
       "      <th>0</th>\n",
       "      <th>1</th>\n",
       "      <th>2</th>\n",
       "      <th>3</th>\n",
       "      <th>4</th>\n",
       "      <th>5</th>\n",
       "      <th>6</th>\n",
       "      <th>7</th>\n",
       "      <th>8</th>\n",
       "    </tr>\n",
       "  </thead>\n",
       "  <tbody>\n",
       "    <tr>\n",
       "      <th>0</th>\n",
       "      <td>toothpaste</td>\n",
       "      <td>brush</td>\n",
       "      <td>milk</td>\n",
       "      <td>cereals</td>\n",
       "      <td>honey</td>\n",
       "      <td>bread</td>\n",
       "      <td>butter</td>\n",
       "      <td>cheese</td>\n",
       "      <td>yogurt</td>\n",
       "    </tr>\n",
       "    <tr>\n",
       "      <th>1</th>\n",
       "      <td>milk</td>\n",
       "      <td>cereals</td>\n",
       "      <td>honey</td>\n",
       "      <td>bread</td>\n",
       "      <td>cheese</td>\n",
       "      <td>razor</td>\n",
       "      <td>gel</td>\n",
       "      <td>shampoo</td>\n",
       "      <td>NaN</td>\n",
       "    </tr>\n",
       "    <tr>\n",
       "      <th>2</th>\n",
       "      <td>milk</td>\n",
       "      <td>cereals</td>\n",
       "      <td>honey</td>\n",
       "      <td>cheese</td>\n",
       "      <td>soap</td>\n",
       "      <td>shampoo</td>\n",
       "      <td>NaN</td>\n",
       "      <td>NaN</td>\n",
       "      <td>NaN</td>\n",
       "    </tr>\n",
       "    <tr>\n",
       "      <th>3</th>\n",
       "      <td>honey</td>\n",
       "      <td>bread</td>\n",
       "      <td>butter</td>\n",
       "      <td>cheese</td>\n",
       "      <td>mouthwash</td>\n",
       "      <td>toothpaste</td>\n",
       "      <td>NaN</td>\n",
       "      <td>NaN</td>\n",
       "      <td>NaN</td>\n",
       "    </tr>\n",
       "    <tr>\n",
       "      <th>4</th>\n",
       "      <td>cereals</td>\n",
       "      <td>honey</td>\n",
       "      <td>bread</td>\n",
       "      <td>butter</td>\n",
       "      <td>gel</td>\n",
       "      <td>soap</td>\n",
       "      <td>NaN</td>\n",
       "      <td>NaN</td>\n",
       "      <td>NaN</td>\n",
       "    </tr>\n",
       "  </tbody>\n",
       "</table>\n",
       "</div>"
      ],
      "text/plain": [
       "            0        1       2        3          4           5       6  \\\n",
       "0  toothpaste    brush    milk  cereals      honey       bread  butter   \n",
       "1        milk  cereals   honey    bread     cheese       razor     gel   \n",
       "2        milk  cereals   honey   cheese       soap     shampoo     NaN   \n",
       "3       honey    bread  butter   cheese  mouthwash  toothpaste     NaN   \n",
       "4     cereals    honey   bread   butter        gel        soap     NaN   \n",
       "\n",
       "         7       8  \n",
       "0   cheese  yogurt  \n",
       "1  shampoo     NaN  \n",
       "2      NaN     NaN  \n",
       "3      NaN     NaN  \n",
       "4      NaN     NaN  "
      ]
     },
     "execution_count": 2,
     "metadata": {},
     "output_type": "execute_result"
    }
   ],
   "source": [
    "data = pd.read_csv('order_data.csv', sep=\" \", header=None)\n",
    "data.head()"
   ]
  },
  {
   "cell_type": "code",
   "execution_count": 3,
   "metadata": {},
   "outputs": [
    {
     "name": "stdout",
     "output_type": "stream",
     "text": [
      "[['toothpaste', 'brush', 'milk', 'cereals', 'honey', 'bread', 'butter', 'cheese', 'yogurt'], ['milk', 'cereals', 'honey', 'bread', 'cheese', 'razor', 'gel', 'shampoo', 'nan'], ['milk', 'cereals', 'honey', 'cheese', 'soap', 'shampoo', 'nan', 'nan', 'nan'], ['honey', 'bread', 'butter', 'cheese', 'mouthwash', 'toothpaste', 'nan', 'nan', 'nan'], ['cereals', 'honey', 'bread', 'butter', 'gel', 'soap', 'nan', 'nan', 'nan'], ['cheesse', 'yogurt', 'milk', 'cereals', 'honey', 'shampoo', 'gel', 'nan', 'nan'], ['honey', 'bread', 'cheese', 'razor', 'butter', 'yogurt', 'nan', 'nan', 'nan'], ['honey', 'bread', 'cheese', 'butter', 'milk', 'nan', 'nan', 'nan', 'nan'], ['cereals', 'butter', 'cookies', 'chips', 'nan', 'nan', 'nan', 'nan', 'nan'], ['cerals', 'cheese', 'yogurt', 'cookies', 'chips', 'nan', 'nan', 'nan', 'nan'], ['toothpaste', 'brush', 'gel', 'shampoo', 'soap', 'cookies', 'chips', 'nan', 'nan'], ['toothpaste', 'brush', 'gel', 'razor', 'mouthwash', 'milk', 'cookies', 'nan', 'nan'], ['razor', 'shampoo', 'gel', 'soap', 'bread', 'butter', 'nan', 'nan', 'nan'], ['brush', 'shampoo', 'gel', 'toothpaste', 'mouthwash', 'bread', 'cheese', 'nan', 'nan'], ['mouthwash', 'toothpaste', 'soap', 'shampoo', 'cheese', 'yogurt', 'nan', 'nan', 'nan'], ['razor', 'mouthwash', 'soap', 'butter', 'bread', 'cheese', 'nan', 'nan', 'nan'], ['shampoo', 'soap', 'gel', 'milk', 'honey', 'cereals', 'nan', 'nan', 'nan'], ['toothpaste', 'razor', 'gel', 'brush', 'mouthwash', 'shampoo', 'nan', 'nan', 'nan'], ['gel', 'razor', 'shampoo', 'milk', 'cereals', 'bread', 'cookies', 'nan', 'nan'], ['mouthwash', 'toothpaste', 'milk', 'bread', 'cookies', 'nan', 'nan', 'nan', 'nan']]\n"
     ]
    }
   ],
   "source": [
    "data_list = []\n",
    "for row in range(0, 20):\n",
    "    data_list.append([str(data.values[row,column]) for column in range(0, 9)])\n",
    "\n",
    "print(data_list)\n",
    "\n",
    "algo = apriori(data_list, min_support=0.25, min_confidence=0.2, min_lift=2, min_length=2)\n",
    "results = list(algo)"
   ]
  },
  {
   "cell_type": "code",
   "execution_count": 11,
   "metadata": {},
   "outputs": [
    {
     "name": "stdout",
     "output_type": "stream",
     "text": [
      "[]\n"
     ]
    }
   ],
   "source": [
    "X = np.asarray(data_list)\n",
    "X.shape\n",
    "print(list(algo))"
   ]
  },
  {
   "cell_type": "code",
   "execution_count": 12,
   "metadata": {},
   "outputs": [
    {
     "name": "stdout",
     "output_type": "stream",
     "text": [
      "Required Association No. 1 is: RelationRecord(items=frozenset({'brush', 'toothpaste'}), support=0.25, ordered_statistics=[OrderedStatistic(items_base=frozenset({'brush'}), items_add=frozenset({'toothpaste'}), confidence=1.0, lift=2.5), OrderedStatistic(items_base=frozenset({'toothpaste'}), items_add=frozenset({'brush'}), confidence=0.625, lift=2.5)])\n",
      "-------------------------\n",
      "Required Association No. 2 is: RelationRecord(items=frozenset({'mouthwash', 'toothpaste'}), support=0.3, ordered_statistics=[OrderedStatistic(items_base=frozenset({'mouthwash'}), items_add=frozenset({'toothpaste'}), confidence=0.8571428571428572, lift=2.142857142857143), OrderedStatistic(items_base=frozenset({'toothpaste'}), items_add=frozenset({'mouthwash'}), confidence=0.7499999999999999, lift=2.142857142857143)])\n",
      "-------------------------\n",
      "Required Association No. 3 is: RelationRecord(items=frozenset({'bread', 'butter', 'honey'}), support=0.25, ordered_statistics=[OrderedStatistic(items_base=frozenset({'butter'}), items_add=frozenset({'bread', 'honey'}), confidence=0.625, lift=2.0833333333333335), OrderedStatistic(items_base=frozenset({'bread', 'honey'}), items_add=frozenset({'butter'}), confidence=0.8333333333333334, lift=2.0833333333333335)])\n",
      "-------------------------\n"
     ]
    }
   ],
   "source": [
    "for i in range(0,3):\n",
    "    print(f\"Required Association No. {i+1} is: {results[i]}\")\n",
    "    print('-'*25)"
   ]
  }
 ],
 "metadata": {
  "kernelspec": {
   "display_name": "Python 3",
   "language": "python",
   "name": "python3"
  },
  "language_info": {
   "codemirror_mode": {
    "name": "ipython",
    "version": 3
   },
   "file_extension": ".py",
   "mimetype": "text/x-python",
   "name": "python",
   "nbconvert_exporter": "python",
   "pygments_lexer": "ipython3",
   "version": "3.8.5"
  }
 },
 "nbformat": 4,
 "nbformat_minor": 4
}
